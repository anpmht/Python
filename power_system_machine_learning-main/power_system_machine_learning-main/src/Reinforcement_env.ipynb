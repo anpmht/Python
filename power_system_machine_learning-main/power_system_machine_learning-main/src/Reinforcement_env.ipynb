{
 "cells": [
  {
   "cell_type": "code",
   "execution_count": 49,
   "id": "efb50987",
   "metadata": {},
   "outputs": [],
   "source": [
    "from gym import Env  # envirinment \n",
    "from gym.spaces import Discrete, Box  #used to define action and observation spaces\n",
    "import random\n",
    "import numpy as np"
   ]
  },
  {
   "cell_type": "code",
   "execution_count": 80,
   "id": "edccedeb",
   "metadata": {},
   "outputs": [],
   "source": [
    "class gridEnv(Env):\n",
    "    def __init__(self):\n",
    "#       initialize possible action spaces  \n",
    "        self.action_space = Box(low= np.array([0]), high = np.array([100]))\n",
    "#       initialize possible observation spaces\n",
    "        self.observation_space = Box(low= -100.00), high = 100.00,shape=(1, 3), dtype=np.float32)\n",
    "        #define observatin space with equal bounds [-100 to 100] of shape [1,3]\n",
    "#       Set start power\n",
    "        self.state = 203.0\n",
    "#       Set number of training run\n",
    "#       in the actual training this value should be infinity\n",
    "        self.training_run = 100000\n",
    "        \n",
    "    def step(self,action):\n",
    "#       increase or decrease power depending upon requirement\n",
    "        self.state += action -1\n",
    "#       decrease training run by 1\n",
    "        self.training_run -= 1\n",
    "    \n",
    "################################################################################\n",
    "# matlab simulation model that\n",
    "# return frequency for reward\n",
    "# return p1, p2 and load for future actions\n",
    "################################################################################\n",
    "\n",
    "#       give reward based on the frequency(observation space)  \n",
    "        if self.state >= 49.5 and self.state <=50.5:\n",
    "            reward = 1\n",
    "        else:\n",
    "            reward = -1\n",
    "#       check if training run is complete  \n",
    "        if self.training_run <= 0:\n",
    "            done = True\n",
    "        else:\n",
    "            done = False\n",
    "            \n",
    "#       Set placeholder for info\n",
    "        info = {}\n",
    "    \n",
    "#       return the information\n",
    "        return self.state, reward, done, info\n",
    "        \n",
    "    def render(self):\n",
    "        pass\n",
    "    def reset(self):\n",
    "#       resetting the env\n",
    "        self.state = 50 + random.randint(-3,3)\n",
    "        self.training_run = 1000\n",
    "        return self.state"
   ]
  },
  {
   "cell_type": "code",
   "execution_count": 81,
   "id": "d1e29752",
   "metadata": {
    "scrolled": true
   },
   "outputs": [],
   "source": [
    "states = env.observation_space.shape\n",
    "actions = env.action_space.n\n",
    "env  = gridEnv()\n",
    "env.observation_space.sample()\n",
    "episodes = 10\n",
    "for episode in range(1,episodes+1):\n",
    "    state = env.reset()\n",
    "    done  = False\n",
    "    score = 0\n",
    "    \n",
    "    while not done:\n",
    "        env.render()\n",
    "        action  =env.action_space.sample()\n",
    "        n_space, reward, done, info = env.step(action)\n",
    "        score += reward\n",
    "#     print('Episode:{} Score: {}' .format(episode, score))"
   ]
  },
  {
   "cell_type": "code",
   "execution_count": 82,
   "id": "6c4cf214",
   "metadata": {},
   "outputs": [],
   "source": [
    "import matplotlib.pyplot as plt\n",
    "import numpy\n",
    "import pandas as pd\n",
    "import keras\n",
    "from keras.models import Sequential\n",
    "from keras.layers import Dense, Flatten\n",
    "from tensorflow.keras.optimizers import Adam"
   ]
  },
  {
   "cell_type": "code",
   "execution_count": 83,
   "id": "570fbd78",
   "metadata": {},
   "outputs": [],
   "source": [
    "states_shape = env.observation_space.shape\n",
    "actions  = env.action_space.n"
   ]
  },
  {
   "cell_type": "code",
   "execution_count": 89,
   "id": "ae3e49c2",
   "metadata": {},
   "outputs": [],
   "source": [
    "# building model if training from beginning\n",
    "# def build_model(states,actions):\n",
    "#     model = Sequential()\n",
    "#     model.add(Dense(20, activation=\"tanh\", input_dim=3, kernel_initializer=\"uniform\"))\n",
    "#     model.add(Dense(20, activation=\"relu\", kernel_initializer=\"uniform\"))\n",
    "#     model.add(Dense(1, activation=\"linear\", kernel_initializer=\"uniform\"))\n",
    "#     return model"
   ]
  },
  {
   "cell_type": "code",
   "execution_count": null,
   "id": "ca4b20c9",
   "metadata": {},
   "outputs": [],
   "source": [
    "# import pretrained model and insert it into reinforcement model\n",
    "model = keras.models.load_model(\"./model/model.h5\")"
   ]
  },
  {
   "cell_type": "code",
   "execution_count": 90,
   "id": "5ef454d6",
   "metadata": {},
   "outputs": [
    {
     "name": "stdout",
     "output_type": "stream",
     "text": [
      "Model: \"sequential_14\"\n",
      "_________________________________________________________________\n",
      " Layer (type)                Output Shape              Param #   \n",
      "=================================================================\n",
      " dense_23 (Dense)            (None, 24)                48        \n",
      "                                                                 \n",
      " dense_24 (Dense)            (None, 24)                600       \n",
      "                                                                 \n",
      " dense_25 (Dense)            (None, 2)                 50        \n",
      "                                                                 \n",
      "=================================================================\n",
      "Total params: 698\n",
      "Trainable params: 698\n",
      "Non-trainable params: 0\n",
      "_________________________________________________________________\n"
     ]
    }
   ],
   "source": [
    "#build pretrained model\n",
    "model = build_model(states_shape, actions)\n",
    "model.summary()"
   ]
  },
  {
   "cell_type": "code",
   "execution_count": 91,
   "id": "1044cbf3",
   "metadata": {},
   "outputs": [],
   "source": [
    "from rl.agents import DQNAgent\n",
    "from rl.policy import BoltzmannQPolicy\n",
    "from rl.memory import SequentialMemory"
   ]
  },
  {
   "cell_type": "code",
   "execution_count": 92,
   "id": "690ae360",
   "metadata": {},
   "outputs": [],
   "source": [
    "# define a reinforcement learning agent\n",
    "def build_agent(model, actions):\n",
    "    policy = BoltzmannQPolicy()\n",
    "    memory = SequentialMemory(limit = 50000, window_length = 1)\n",
    "    dqn = DQNAgent(model = model, memory = memory, policy = policy,\n",
    "                  nb_actions = actions, nb_steps_warmup = 10, target_model_update = 1e-12)\n",
    "    return dqn"
   ]
  },
  {
   "cell_type": "code",
   "execution_count": 94,
   "id": "d7bb2021",
   "metadata": {},
   "outputs": [
    {
     "name": "stderr",
     "output_type": "stream",
     "text": [
      "C:\\Users\\anup\\anaconda3\\lib\\site-packages\\keras\\optimizers\\optimizer_v2\\adam.py:114: UserWarning: The `lr` argument is deprecated, use `learning_rate` instead.\n",
      "  super().__init__(name, **kwargs)\n"
     ]
    },
    {
     "name": "stdout",
     "output_type": "stream",
     "text": [
      "Training for 50000 steps ...\n",
      "Interval 1 (0 steps performed)\n",
      "\r\n",
      "    1/10000 [..............................] - ETA: 31:13 - reward: 1.0000"
     ]
    },
    {
     "name": "stderr",
     "output_type": "stream",
     "text": [
      "C:\\Users\\anup\\anaconda3\\lib\\site-packages\\keras\\engine\\training_v1.py:2356: UserWarning: `Model.state_updates` will be removed in a future version. This property should not be used in TensorFlow 2.0, as `updates` are applied automatically.\n",
      "  updates=self.state_updates,\n",
      "C:\\Users\\anup\\anaconda3\\lib\\site-packages\\rl\\memory.py:37: UserWarning: Not enough entries to sample without replacement. Consider increasing your warm-up phase to avoid oversampling!\n",
      "  warnings.warn('Not enough entries to sample without replacement. Consider increasing your warm-up phase to avoid oversampling!')\n"
     ]
    },
    {
     "name": "stdout",
     "output_type": "stream",
     "text": [
      "10000/10000 [==============================] - 83s 8ms/step - reward: -0.2000\n",
      "10 episodes - episode_reward: -200.000 [-1000.000, 1000.000] - loss: 0.466 - mae: 3.136 - mean_q: 8.432\n",
      "\n",
      "Interval 2 (10000 steps performed)\n",
      "10000/10000 [==============================] - 91s 9ms/step - reward: 0.2000\n",
      "10 episodes - episode_reward: 200.000 [-1000.000, 1000.000] - loss: 0.517 - mae: 2.791 - mean_q: 8.310\n",
      "\n",
      "Interval 3 (20000 steps performed)\n",
      "10000/10000 [==============================] - 98s 10ms/step - reward: -0.4000\n",
      "10 episodes - episode_reward: -400.000 [-1000.000, 1000.000] - loss: 0.533 - mae: 1.899 - mean_q: 8.349\n",
      "\n",
      "Interval 4 (30000 steps performed)\n",
      "10000/10000 [==============================] - 99s 10ms/step - reward: 0.4020\n",
      "10 episodes - episode_reward: 402.000 [-1000.000, 1000.000] - loss: 0.549 - mae: 1.985 - mean_q: 8.422\n",
      "\n",
      "Interval 5 (40000 steps performed)\n",
      "10000/10000 [==============================] - 97s 10ms/step - reward: -0.97640s - rewar\n",
      "done, took 467.981 seconds\n"
     ]
    },
    {
     "data": {
      "text/plain": [
       "<keras.callbacks.History at 0x1b2b0687130>"
      ]
     },
     "execution_count": 94,
     "metadata": {},
     "output_type": "execute_result"
    }
   ],
   "source": [
    "# training model with reinforcement learning\n",
    "dqn = build_agent(model, action)\n",
    "dqn.compile(Adam(lr=1e-3), metrics = ['mae'])\n",
    "dqn.fit(env, nb_steps = 50000, visualize = False, verbose = 1)"
   ]
  },
  {
   "cell_type": "code",
   "execution_count": null,
   "id": "f03510ff",
   "metadata": {},
   "outputs": [],
   "source": []
  }
 ],
 "metadata": {
  "kernelspec": {
   "display_name": "Python 3 (ipykernel)",
   "language": "python",
   "name": "python3"
  },
  "language_info": {
   "codemirror_mode": {
    "name": "ipython",
    "version": 3
   },
   "file_extension": ".py",
   "mimetype": "text/x-python",
   "name": "python",
   "nbconvert_exporter": "python",
   "pygments_lexer": "ipython3",
   "version": "3.9.12"
  },
  "vscode": {
   "interpreter": {
    "hash": "fcc59eb91c0c13255058306fc20756a345daef695284dbc853f456332f0267f6"
   }
  }
 },
 "nbformat": 4,
 "nbformat_minor": 5
}
